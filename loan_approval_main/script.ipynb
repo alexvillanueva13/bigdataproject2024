{
 "cells": [
  {
   "cell_type": "code",
   "execution_count": 1,
   "metadata": {},
   "outputs": [],
   "source": [
    "# #Abhay and Alex Big Data Project\n",
    "\n",
    "# # # Run only ONCE: Install necessary Python libraries\n",
    "\n",
    "# # # # Install pandas for data manipulation\n",
    "#  !pip install pandas\n",
    "\n",
    "# # # # Install scikit-learn for machine learning models and metrics\n",
    "#  !pip install scikit-learn\n",
    "\n",
    "# # # # Install matplotlib for plotting the ROC curve\n",
    "#  !pip install matplotlib"
   ]
  },
  {
   "cell_type": "code",
   "execution_count": 2,
   "metadata": {},
   "outputs": [],
   "source": [
    "# Load necessary libraries\n",
    "\n",
    "import pandas as pd\n",
    "import matplotlib.pyplot as plt\n",
    "from sklearn.model_selection import train_test_split\n",
    "from sklearn.tree import DecisionTreeClassifier\n",
    "from sklearn.metrics import accuracy_score, precision_score, recall_score, f1_score, roc_auc_score, roc_curve"
   ]
  },
  {
   "cell_type": "code",
   "execution_count": 3,
   "metadata": {
    "scrolled": true
   },
   "outputs": [
    {
     "data": {
      "text/html": [
       "<div>\n",
       "<style scoped>\n",
       "    .dataframe tbody tr th:only-of-type {\n",
       "        vertical-align: middle;\n",
       "    }\n",
       "\n",
       "    .dataframe tbody tr th {\n",
       "        vertical-align: top;\n",
       "    }\n",
       "\n",
       "    .dataframe thead th {\n",
       "        text-align: right;\n",
       "    }\n",
       "</style>\n",
       "<table border=\"1\" class=\"dataframe\">\n",
       "  <thead>\n",
       "    <tr style=\"text-align: right;\">\n",
       "      <th></th>\n",
       "      <th>loan_id</th>\n",
       "      <th>no_of_dependents</th>\n",
       "      <th>education</th>\n",
       "      <th>self_employed</th>\n",
       "      <th>income_annum</th>\n",
       "      <th>loan_amount</th>\n",
       "      <th>loan_term</th>\n",
       "      <th>cibil_score</th>\n",
       "      <th>residential_assets_value</th>\n",
       "      <th>commercial_assets_value</th>\n",
       "      <th>luxury_assets_value</th>\n",
       "      <th>bank_asset_value</th>\n",
       "      <th>loan_status</th>\n",
       "    </tr>\n",
       "  </thead>\n",
       "  <tbody>\n",
       "    <tr>\n",
       "      <th>0</th>\n",
       "      <td>1</td>\n",
       "      <td>2</td>\n",
       "      <td>Graduate</td>\n",
       "      <td>No</td>\n",
       "      <td>9600000</td>\n",
       "      <td>29900000</td>\n",
       "      <td>12</td>\n",
       "      <td>778</td>\n",
       "      <td>2400000</td>\n",
       "      <td>17600000</td>\n",
       "      <td>22700000</td>\n",
       "      <td>8000000</td>\n",
       "      <td>Approved</td>\n",
       "    </tr>\n",
       "    <tr>\n",
       "      <th>1</th>\n",
       "      <td>2</td>\n",
       "      <td>0</td>\n",
       "      <td>Not Graduate</td>\n",
       "      <td>Yes</td>\n",
       "      <td>4100000</td>\n",
       "      <td>12200000</td>\n",
       "      <td>8</td>\n",
       "      <td>417</td>\n",
       "      <td>2700000</td>\n",
       "      <td>2200000</td>\n",
       "      <td>8800000</td>\n",
       "      <td>3300000</td>\n",
       "      <td>Rejected</td>\n",
       "    </tr>\n",
       "    <tr>\n",
       "      <th>2</th>\n",
       "      <td>3</td>\n",
       "      <td>3</td>\n",
       "      <td>Graduate</td>\n",
       "      <td>No</td>\n",
       "      <td>9100000</td>\n",
       "      <td>29700000</td>\n",
       "      <td>20</td>\n",
       "      <td>506</td>\n",
       "      <td>7100000</td>\n",
       "      <td>4500000</td>\n",
       "      <td>33300000</td>\n",
       "      <td>12800000</td>\n",
       "      <td>Rejected</td>\n",
       "    </tr>\n",
       "    <tr>\n",
       "      <th>3</th>\n",
       "      <td>4</td>\n",
       "      <td>3</td>\n",
       "      <td>Graduate</td>\n",
       "      <td>No</td>\n",
       "      <td>8200000</td>\n",
       "      <td>30700000</td>\n",
       "      <td>8</td>\n",
       "      <td>467</td>\n",
       "      <td>18200000</td>\n",
       "      <td>3300000</td>\n",
       "      <td>23300000</td>\n",
       "      <td>7900000</td>\n",
       "      <td>Rejected</td>\n",
       "    </tr>\n",
       "    <tr>\n",
       "      <th>4</th>\n",
       "      <td>5</td>\n",
       "      <td>5</td>\n",
       "      <td>Not Graduate</td>\n",
       "      <td>Yes</td>\n",
       "      <td>9800000</td>\n",
       "      <td>24200000</td>\n",
       "      <td>20</td>\n",
       "      <td>382</td>\n",
       "      <td>12400000</td>\n",
       "      <td>8200000</td>\n",
       "      <td>29400000</td>\n",
       "      <td>5000000</td>\n",
       "      <td>Rejected</td>\n",
       "    </tr>\n",
       "    <tr>\n",
       "      <th>5</th>\n",
       "      <td>6</td>\n",
       "      <td>0</td>\n",
       "      <td>Graduate</td>\n",
       "      <td>Yes</td>\n",
       "      <td>4800000</td>\n",
       "      <td>13500000</td>\n",
       "      <td>10</td>\n",
       "      <td>319</td>\n",
       "      <td>6800000</td>\n",
       "      <td>8300000</td>\n",
       "      <td>13700000</td>\n",
       "      <td>5100000</td>\n",
       "      <td>Rejected</td>\n",
       "    </tr>\n",
       "    <tr>\n",
       "      <th>6</th>\n",
       "      <td>7</td>\n",
       "      <td>5</td>\n",
       "      <td>Graduate</td>\n",
       "      <td>No</td>\n",
       "      <td>8700000</td>\n",
       "      <td>33000000</td>\n",
       "      <td>4</td>\n",
       "      <td>678</td>\n",
       "      <td>22500000</td>\n",
       "      <td>14800000</td>\n",
       "      <td>29200000</td>\n",
       "      <td>4300000</td>\n",
       "      <td>Approved</td>\n",
       "    </tr>\n",
       "    <tr>\n",
       "      <th>7</th>\n",
       "      <td>8</td>\n",
       "      <td>2</td>\n",
       "      <td>Graduate</td>\n",
       "      <td>Yes</td>\n",
       "      <td>5700000</td>\n",
       "      <td>15000000</td>\n",
       "      <td>20</td>\n",
       "      <td>382</td>\n",
       "      <td>13200000</td>\n",
       "      <td>5700000</td>\n",
       "      <td>11800000</td>\n",
       "      <td>6000000</td>\n",
       "      <td>Rejected</td>\n",
       "    </tr>\n",
       "    <tr>\n",
       "      <th>8</th>\n",
       "      <td>9</td>\n",
       "      <td>0</td>\n",
       "      <td>Graduate</td>\n",
       "      <td>Yes</td>\n",
       "      <td>800000</td>\n",
       "      <td>2200000</td>\n",
       "      <td>20</td>\n",
       "      <td>782</td>\n",
       "      <td>1300000</td>\n",
       "      <td>800000</td>\n",
       "      <td>2800000</td>\n",
       "      <td>600000</td>\n",
       "      <td>Approved</td>\n",
       "    </tr>\n",
       "    <tr>\n",
       "      <th>9</th>\n",
       "      <td>10</td>\n",
       "      <td>5</td>\n",
       "      <td>Not Graduate</td>\n",
       "      <td>No</td>\n",
       "      <td>1100000</td>\n",
       "      <td>4300000</td>\n",
       "      <td>10</td>\n",
       "      <td>388</td>\n",
       "      <td>3200000</td>\n",
       "      <td>1400000</td>\n",
       "      <td>3300000</td>\n",
       "      <td>1600000</td>\n",
       "      <td>Rejected</td>\n",
       "    </tr>\n",
       "    <tr>\n",
       "      <th>10</th>\n",
       "      <td>11</td>\n",
       "      <td>4</td>\n",
       "      <td>Graduate</td>\n",
       "      <td>Yes</td>\n",
       "      <td>2900000</td>\n",
       "      <td>11200000</td>\n",
       "      <td>2</td>\n",
       "      <td>547</td>\n",
       "      <td>8100000</td>\n",
       "      <td>4700000</td>\n",
       "      <td>9500000</td>\n",
       "      <td>3100000</td>\n",
       "      <td>Approved</td>\n",
       "    </tr>\n",
       "    <tr>\n",
       "      <th>11</th>\n",
       "      <td>12</td>\n",
       "      <td>2</td>\n",
       "      <td>Not Graduate</td>\n",
       "      <td>Yes</td>\n",
       "      <td>6700000</td>\n",
       "      <td>22700000</td>\n",
       "      <td>18</td>\n",
       "      <td>538</td>\n",
       "      <td>15300000</td>\n",
       "      <td>5800000</td>\n",
       "      <td>20400000</td>\n",
       "      <td>6400000</td>\n",
       "      <td>Rejected</td>\n",
       "    </tr>\n",
       "    <tr>\n",
       "      <th>12</th>\n",
       "      <td>13</td>\n",
       "      <td>3</td>\n",
       "      <td>Not Graduate</td>\n",
       "      <td>Yes</td>\n",
       "      <td>5000000</td>\n",
       "      <td>11600000</td>\n",
       "      <td>16</td>\n",
       "      <td>311</td>\n",
       "      <td>6400000</td>\n",
       "      <td>9600000</td>\n",
       "      <td>14600000</td>\n",
       "      <td>4300000</td>\n",
       "      <td>Rejected</td>\n",
       "    </tr>\n",
       "    <tr>\n",
       "      <th>13</th>\n",
       "      <td>14</td>\n",
       "      <td>2</td>\n",
       "      <td>Graduate</td>\n",
       "      <td>Yes</td>\n",
       "      <td>9100000</td>\n",
       "      <td>31500000</td>\n",
       "      <td>14</td>\n",
       "      <td>679</td>\n",
       "      <td>10800000</td>\n",
       "      <td>16600000</td>\n",
       "      <td>20900000</td>\n",
       "      <td>5000000</td>\n",
       "      <td>Approved</td>\n",
       "    </tr>\n",
       "    <tr>\n",
       "      <th>14</th>\n",
       "      <td>15</td>\n",
       "      <td>1</td>\n",
       "      <td>Not Graduate</td>\n",
       "      <td>No</td>\n",
       "      <td>1900000</td>\n",
       "      <td>7400000</td>\n",
       "      <td>6</td>\n",
       "      <td>469</td>\n",
       "      <td>1900000</td>\n",
       "      <td>1200000</td>\n",
       "      <td>5900000</td>\n",
       "      <td>1900000</td>\n",
       "      <td>Rejected</td>\n",
       "    </tr>\n",
       "  </tbody>\n",
       "</table>\n",
       "</div>"
      ],
      "text/plain": [
       "    loan_id   no_of_dependents      education  self_employed   income_annum  \\\n",
       "0         1                  2       Graduate             No        9600000   \n",
       "1         2                  0   Not Graduate            Yes        4100000   \n",
       "2         3                  3       Graduate             No        9100000   \n",
       "3         4                  3       Graduate             No        8200000   \n",
       "4         5                  5   Not Graduate            Yes        9800000   \n",
       "5         6                  0       Graduate            Yes        4800000   \n",
       "6         7                  5       Graduate             No        8700000   \n",
       "7         8                  2       Graduate            Yes        5700000   \n",
       "8         9                  0       Graduate            Yes         800000   \n",
       "9        10                  5   Not Graduate             No        1100000   \n",
       "10       11                  4       Graduate            Yes        2900000   \n",
       "11       12                  2   Not Graduate            Yes        6700000   \n",
       "12       13                  3   Not Graduate            Yes        5000000   \n",
       "13       14                  2       Graduate            Yes        9100000   \n",
       "14       15                  1   Not Graduate             No        1900000   \n",
       "\n",
       "     loan_amount   loan_term   cibil_score   residential_assets_value  \\\n",
       "0       29900000          12           778                    2400000   \n",
       "1       12200000           8           417                    2700000   \n",
       "2       29700000          20           506                    7100000   \n",
       "3       30700000           8           467                   18200000   \n",
       "4       24200000          20           382                   12400000   \n",
       "5       13500000          10           319                    6800000   \n",
       "6       33000000           4           678                   22500000   \n",
       "7       15000000          20           382                   13200000   \n",
       "8        2200000          20           782                    1300000   \n",
       "9        4300000          10           388                    3200000   \n",
       "10      11200000           2           547                    8100000   \n",
       "11      22700000          18           538                   15300000   \n",
       "12      11600000          16           311                    6400000   \n",
       "13      31500000          14           679                   10800000   \n",
       "14       7400000           6           469                    1900000   \n",
       "\n",
       "     commercial_assets_value   luxury_assets_value   bank_asset_value  \\\n",
       "0                   17600000              22700000            8000000   \n",
       "1                    2200000               8800000            3300000   \n",
       "2                    4500000              33300000           12800000   \n",
       "3                    3300000              23300000            7900000   \n",
       "4                    8200000              29400000            5000000   \n",
       "5                    8300000              13700000            5100000   \n",
       "6                   14800000              29200000            4300000   \n",
       "7                    5700000              11800000            6000000   \n",
       "8                     800000               2800000             600000   \n",
       "9                    1400000               3300000            1600000   \n",
       "10                   4700000               9500000            3100000   \n",
       "11                   5800000              20400000            6400000   \n",
       "12                   9600000              14600000            4300000   \n",
       "13                  16600000              20900000            5000000   \n",
       "14                   1200000               5900000            1900000   \n",
       "\n",
       "    loan_status  \n",
       "0      Approved  \n",
       "1      Rejected  \n",
       "2      Rejected  \n",
       "3      Rejected  \n",
       "4      Rejected  \n",
       "5      Rejected  \n",
       "6      Approved  \n",
       "7      Rejected  \n",
       "8      Approved  \n",
       "9      Rejected  \n",
       "10     Approved  \n",
       "11     Rejected  \n",
       "12     Rejected  \n",
       "13     Approved  \n",
       "14     Rejected  "
      ]
     },
     "execution_count": 3,
     "metadata": {},
     "output_type": "execute_result"
    }
   ],
   "source": [
    "# Step 1 Load the dataset \n",
    "file_path = 'loan_approval_dataset.csv'\n",
    "loan_df = pd.read_csv(file_path)\n",
    "loan_df.head(15)"
   ]
  },
  {
   "cell_type": "code",
   "execution_count": 4,
   "metadata": {
    "scrolled": true
   },
   "outputs": [
    {
     "name": "stdout",
     "output_type": "stream",
     "text": [
      "Columns with missing values:\n",
      " Series([], dtype: int64)\n"
     ]
    }
   ],
   "source": [
    "# Step 2: Identify columns with missing values\n",
    "missing_values = loan_df.isnull().sum()\n",
    "print(\"Columns with missing values:\\n\", missing_values[missing_values > 0])"
   ]
  },
  {
   "cell_type": "code",
   "execution_count": 5,
   "metadata": {},
   "outputs": [
    {
     "name": "stdout",
     "output_type": "stream",
     "text": [
      "Column 'loan_id' exists in the DataFrame.\n"
     ]
    }
   ],
   "source": [
    "if 'loan_id' in loan_df.columns:\n",
    "    print(\"Column 'loan_id' exists in the DataFrame.\")\n",
    "else:\n",
    "    print(\"Column 'loan_id' not found in the DataFrame.\")\n"
   ]
  },
  {
   "cell_type": "code",
   "execution_count": 6,
   "metadata": {},
   "outputs": [],
   "source": [
    "# Step 3: Drop irrelevant columns\n",
    "loan_df = loan_df.drop(['loan_id'], axis=1)"
   ]
  },
  {
   "cell_type": "code",
   "execution_count": 7,
   "metadata": {},
   "outputs": [
    {
     "name": "stdout",
     "output_type": "stream",
     "text": [
      "Column 'loan_id' not found in the DataFrame.\n"
     ]
    }
   ],
   "source": [
    "if 'loan_id' in loan_df.columns:\n",
    "    print(\"Column 'loan_id' exists in the DataFrame.\")\n",
    "else:\n",
    "    print(\"Column 'loan_id' not found in the DataFrame.\")\n"
   ]
  },
  {
   "cell_type": "code",
   "execution_count": 8,
   "metadata": {},
   "outputs": [],
   "source": [
    "#Strip blank spaces from column headers\n",
    "loan_df.columns = loan_df.columns.str.strip().str.lower().str.replace(' ', '_')\n"
   ]
  },
  {
   "cell_type": "code",
   "execution_count": 9,
   "metadata": {},
   "outputs": [
    {
     "name": "stdout",
     "output_type": "stream",
     "text": [
      "Negative values found:\n",
      " 59     -100000\n",
      "196    -100000\n",
      "559    -100000\n",
      "702    -100000\n",
      "737    -100000\n",
      "784    -100000\n",
      "904    -100000\n",
      "1089   -100000\n",
      "1163   -100000\n",
      "1350   -100000\n",
      "1392   -100000\n",
      "1773   -100000\n",
      "1806   -100000\n",
      "1866   -100000\n",
      "1933   -100000\n",
      "1950   -100000\n",
      "2707   -100000\n",
      "3019   -100000\n",
      "3164   -100000\n",
      "3180   -100000\n",
      "3431   -100000\n",
      "3730   -100000\n",
      "3747   -100000\n",
      "3962   -100000\n",
      "4076   -100000\n",
      "4130   -100000\n",
      "4206   -100000\n",
      "4243   -100000\n",
      "Name: residential_assets_value, dtype: int64\n",
      "Number of negative values: 28\n"
     ]
    }
   ],
   "source": [
    "negative_values = loan_df['residential_assets_value'][loan_df['residential_assets_value'] < 0]\n",
    "\n",
    "# Display the rows with negative values, if any\n",
    "print(\"Negative values found:\\n\", negative_values)\n",
    "\n",
    "# Count of negative values\n",
    "print(\"Number of negative values:\", len(negative_values))"
   ]
  },
  {
   "cell_type": "code",
   "execution_count": 10,
   "metadata": {},
   "outputs": [],
   "source": [
    "#Get rid of negative values\n",
    "loan_df['residential_assets_value'] = loan_df['residential_assets_value'].apply(lambda x: max(x, 0))"
   ]
  },
  {
   "cell_type": "code",
   "execution_count": 11,
   "metadata": {},
   "outputs": [
    {
     "name": "stdout",
     "output_type": "stream",
     "text": [
      "Negative values found:\n",
      " Series([], Name: residential_assets_value, dtype: int64)\n",
      "Number of negative values: 0\n"
     ]
    }
   ],
   "source": [
    "negative_values = loan_df['residential_assets_value'][loan_df['residential_assets_value'] < 0]\n",
    "\n",
    "# Check once more to ensure code to remove negative values worked\n",
    "print(\"Negative values found:\\n\", negative_values)\n",
    "\n",
    "# Count of negative values\n",
    "print(\"Number of negative values:\", len(negative_values))\n",
    "\n",
    "#Expected output: 0 negative values"
   ]
  },
  {
   "cell_type": "code",
   "execution_count": 12,
   "metadata": {},
   "outputs": [
    {
     "name": "stdout",
     "output_type": "stream",
     "text": [
      "Unique values in 'education': [' Graduate' ' Not Graduate']\n"
     ]
    }
   ],
   "source": [
    "# Check the unique values in the education column\n",
    "print(\"Unique values in 'education':\", loan_df['education'].unique())\n"
   ]
  },
  {
   "cell_type": "code",
   "execution_count": 13,
   "metadata": {},
   "outputs": [
    {
     "name": "stdout",
     "output_type": "stream",
     "text": [
      "Index(['no_of_dependents', 'education', 'self_employed', 'income_annum',\n",
      "       'loan_amount', 'loan_term', 'cibil_score', 'residential_assets_value',\n",
      "       'commercial_assets_value', 'luxury_assets_value', 'bank_asset_value',\n",
      "       'loan_status'],\n",
      "      dtype='object')\n"
     ]
    }
   ],
   "source": [
    "print(loan_df.columns)"
   ]
  },
  {
   "cell_type": "code",
   "execution_count": 14,
   "metadata": {},
   "outputs": [],
   "source": [
    "loan_df['education'] = loan_df['education'].str.strip()"
   ]
  },
  {
   "cell_type": "code",
   "execution_count": 15,
   "metadata": {},
   "outputs": [],
   "source": [
    "loan_df['self_employed'] = loan_df['self_employed'].str.strip()"
   ]
  },
  {
   "cell_type": "code",
   "execution_count": 16,
   "metadata": {},
   "outputs": [
    {
     "name": "stdout",
     "output_type": "stream",
     "text": [
      "Unique values in 'education': ['Graduate' 'Not Graduate']\n"
     ]
    }
   ],
   "source": [
    "print(\"Unique values in 'education':\", loan_df['education'].unique())\n"
   ]
  },
  {
   "cell_type": "code",
   "execution_count": 17,
   "metadata": {},
   "outputs": [],
   "source": [
    "# Encoding categorical variables\n",
    "loan_df['education'] = loan_df['education'].map({'Graduate': 1, 'Not Graduate': 0})\n",
    "loan_df['self_employed'] = loan_df['self_employed'].map({'Yes': 1, 'No': 0})\n",
    "# loan_df['self_employed'] = loan_df['self_employed'].map({'Yes': 1, 'No': 0})\n",
    "# loan_df['loan_status'] = loan_df['loan_status'].map({'Approved': 1, 'Rejected': 0})\n"
   ]
  },
  {
   "cell_type": "code",
   "execution_count": 18,
   "metadata": {},
   "outputs": [
    {
     "name": "stdout",
     "output_type": "stream",
     "text": [
      "   education  self_employed loan_status\n",
      "0          1              0    Approved\n",
      "1          0              1    Rejected\n",
      "2          1              0    Rejected\n",
      "3          1              0    Rejected\n",
      "4          0              1    Rejected\n"
     ]
    }
   ],
   "source": [
    "# Display the first few rows of the encoded columns\n",
    "print(loan_df[['education', 'self_employed', 'loan_status']].head())\n"
   ]
  },
  {
   "cell_type": "code",
   "execution_count": null,
   "metadata": {},
   "outputs": [],
   "source": []
  }
 ],
 "metadata": {
  "kernelspec": {
   "display_name": "Python 3 (ipykernel)",
   "language": "python",
   "name": "python3"
  },
  "language_info": {
   "codemirror_mode": {
    "name": "ipython",
    "version": 3
   },
   "file_extension": ".py",
   "mimetype": "text/x-python",
   "name": "python",
   "nbconvert_exporter": "python",
   "pygments_lexer": "ipython3",
   "version": "3.12.7"
  },
  "vscode": {
   "interpreter": {
    "hash": "aee8b7b246df8f9039afb4144a1f6fd8d2ca17a180786b69acc140d282b71a49"
   }
  }
 },
 "nbformat": 4,
 "nbformat_minor": 4
}
