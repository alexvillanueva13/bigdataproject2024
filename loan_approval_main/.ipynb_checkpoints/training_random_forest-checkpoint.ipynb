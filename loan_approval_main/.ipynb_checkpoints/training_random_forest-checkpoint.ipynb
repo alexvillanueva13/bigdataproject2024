{
 "cells": [
  {
   "cell_type": "code",
   "execution_count": null,
   "metadata": {},
   "outputs": [],
   "source": [
    "# #Abhay and Alex Big Data Project\n",
    "\n",
    "# # # Run only ONCE: Install necessary Python libraries\n",
    "\n",
    "# # # # Install pandas for data manipulation\n",
    "#  !pip install pandas\n",
    "\n",
    "# # # # Install scikit-learn for machine learning models and metrics\n",
    "#  !pip install scikit-learn\n",
    "\n",
    "# # # # Install matplotlib for plotting the ROC curve\n",
    "#  !pip install matplotlib"
   ]
  },
  {
   "cell_type": "code",
   "execution_count": 2,
   "metadata": {},
   "outputs": [],
   "source": [
    "# Load necessary libraries\n",
    "\n",
    "import pandas as pd\n",
    "import matplotlib.pyplot as plt\n",
    "from sklearn.model_selection import train_test_split\n",
    "from sklearn.tree import DecisionTreeClassifier\n",
    "from sklearn.metrics import accuracy_score, precision_score, recall_score, f1_score, roc_auc_score, roc_curve\n",
    "from sklearn.preprocessing import MinMaxScaler\n",
    "from sklearn.model_selection import cross_val_score"
   ]
  },
  {
   "cell_type": "code",
   "execution_count": 3,
   "metadata": {
    "scrolled": true
   },
   "outputs": [
    {
     "data": {
      "text/html": [
       "<div>\n",
       "<style scoped>\n",
       "    .dataframe tbody tr th:only-of-type {\n",
       "        vertical-align: middle;\n",
       "    }\n",
       "\n",
       "    .dataframe tbody tr th {\n",
       "        vertical-align: top;\n",
       "    }\n",
       "\n",
       "    .dataframe thead th {\n",
       "        text-align: right;\n",
       "    }\n",
       "</style>\n",
       "<table border=\"1\" class=\"dataframe\">\n",
       "  <thead>\n",
       "    <tr style=\"text-align: right;\">\n",
       "      <th></th>\n",
       "      <th>loan_id</th>\n",
       "      <th>no_of_dependents</th>\n",
       "      <th>education</th>\n",
       "      <th>self_employed</th>\n",
       "      <th>income_annum</th>\n",
       "      <th>loan_amount</th>\n",
       "      <th>loan_term</th>\n",
       "      <th>cibil_score</th>\n",
       "      <th>residential_assets_value</th>\n",
       "      <th>commercial_assets_value</th>\n",
       "      <th>luxury_assets_value</th>\n",
       "      <th>bank_asset_value</th>\n",
       "      <th>loan_status</th>\n",
       "    </tr>\n",
       "  </thead>\n",
       "  <tbody>\n",
       "    <tr>\n",
       "      <th>0</th>\n",
       "      <td>1</td>\n",
       "      <td>2</td>\n",
       "      <td>Graduate</td>\n",
       "      <td>No</td>\n",
       "      <td>9600000</td>\n",
       "      <td>29900000</td>\n",
       "      <td>12</td>\n",
       "      <td>778</td>\n",
       "      <td>2400000</td>\n",
       "      <td>17600000</td>\n",
       "      <td>22700000</td>\n",
       "      <td>8000000</td>\n",
       "      <td>Approved</td>\n",
       "    </tr>\n",
       "    <tr>\n",
       "      <th>1</th>\n",
       "      <td>2</td>\n",
       "      <td>0</td>\n",
       "      <td>Not Graduate</td>\n",
       "      <td>Yes</td>\n",
       "      <td>4100000</td>\n",
       "      <td>12200000</td>\n",
       "      <td>8</td>\n",
       "      <td>417</td>\n",
       "      <td>2700000</td>\n",
       "      <td>2200000</td>\n",
       "      <td>8800000</td>\n",
       "      <td>3300000</td>\n",
       "      <td>Rejected</td>\n",
       "    </tr>\n",
       "    <tr>\n",
       "      <th>2</th>\n",
       "      <td>3</td>\n",
       "      <td>3</td>\n",
       "      <td>Graduate</td>\n",
       "      <td>No</td>\n",
       "      <td>9100000</td>\n",
       "      <td>29700000</td>\n",
       "      <td>20</td>\n",
       "      <td>506</td>\n",
       "      <td>7100000</td>\n",
       "      <td>4500000</td>\n",
       "      <td>33300000</td>\n",
       "      <td>12800000</td>\n",
       "      <td>Rejected</td>\n",
       "    </tr>\n",
       "    <tr>\n",
       "      <th>3</th>\n",
       "      <td>4</td>\n",
       "      <td>3</td>\n",
       "      <td>Graduate</td>\n",
       "      <td>No</td>\n",
       "      <td>8200000</td>\n",
       "      <td>30700000</td>\n",
       "      <td>8</td>\n",
       "      <td>467</td>\n",
       "      <td>18200000</td>\n",
       "      <td>3300000</td>\n",
       "      <td>23300000</td>\n",
       "      <td>7900000</td>\n",
       "      <td>Rejected</td>\n",
       "    </tr>\n",
       "    <tr>\n",
       "      <th>4</th>\n",
       "      <td>5</td>\n",
       "      <td>5</td>\n",
       "      <td>Not Graduate</td>\n",
       "      <td>Yes</td>\n",
       "      <td>9800000</td>\n",
       "      <td>24200000</td>\n",
       "      <td>20</td>\n",
       "      <td>382</td>\n",
       "      <td>12400000</td>\n",
       "      <td>8200000</td>\n",
       "      <td>29400000</td>\n",
       "      <td>5000000</td>\n",
       "      <td>Rejected</td>\n",
       "    </tr>\n",
       "    <tr>\n",
       "      <th>5</th>\n",
       "      <td>6</td>\n",
       "      <td>0</td>\n",
       "      <td>Graduate</td>\n",
       "      <td>Yes</td>\n",
       "      <td>4800000</td>\n",
       "      <td>13500000</td>\n",
       "      <td>10</td>\n",
       "      <td>319</td>\n",
       "      <td>6800000</td>\n",
       "      <td>8300000</td>\n",
       "      <td>13700000</td>\n",
       "      <td>5100000</td>\n",
       "      <td>Rejected</td>\n",
       "    </tr>\n",
       "    <tr>\n",
       "      <th>6</th>\n",
       "      <td>7</td>\n",
       "      <td>5</td>\n",
       "      <td>Graduate</td>\n",
       "      <td>No</td>\n",
       "      <td>8700000</td>\n",
       "      <td>33000000</td>\n",
       "      <td>4</td>\n",
       "      <td>678</td>\n",
       "      <td>22500000</td>\n",
       "      <td>14800000</td>\n",
       "      <td>29200000</td>\n",
       "      <td>4300000</td>\n",
       "      <td>Approved</td>\n",
       "    </tr>\n",
       "    <tr>\n",
       "      <th>7</th>\n",
       "      <td>8</td>\n",
       "      <td>2</td>\n",
       "      <td>Graduate</td>\n",
       "      <td>Yes</td>\n",
       "      <td>5700000</td>\n",
       "      <td>15000000</td>\n",
       "      <td>20</td>\n",
       "      <td>382</td>\n",
       "      <td>13200000</td>\n",
       "      <td>5700000</td>\n",
       "      <td>11800000</td>\n",
       "      <td>6000000</td>\n",
       "      <td>Rejected</td>\n",
       "    </tr>\n",
       "    <tr>\n",
       "      <th>8</th>\n",
       "      <td>9</td>\n",
       "      <td>0</td>\n",
       "      <td>Graduate</td>\n",
       "      <td>Yes</td>\n",
       "      <td>800000</td>\n",
       "      <td>2200000</td>\n",
       "      <td>20</td>\n",
       "      <td>782</td>\n",
       "      <td>1300000</td>\n",
       "      <td>800000</td>\n",
       "      <td>2800000</td>\n",
       "      <td>600000</td>\n",
       "      <td>Approved</td>\n",
       "    </tr>\n",
       "    <tr>\n",
       "      <th>9</th>\n",
       "      <td>10</td>\n",
       "      <td>5</td>\n",
       "      <td>Not Graduate</td>\n",
       "      <td>No</td>\n",
       "      <td>1100000</td>\n",
       "      <td>4300000</td>\n",
       "      <td>10</td>\n",
       "      <td>388</td>\n",
       "      <td>3200000</td>\n",
       "      <td>1400000</td>\n",
       "      <td>3300000</td>\n",
       "      <td>1600000</td>\n",
       "      <td>Rejected</td>\n",
       "    </tr>\n",
       "    <tr>\n",
       "      <th>10</th>\n",
       "      <td>11</td>\n",
       "      <td>4</td>\n",
       "      <td>Graduate</td>\n",
       "      <td>Yes</td>\n",
       "      <td>2900000</td>\n",
       "      <td>11200000</td>\n",
       "      <td>2</td>\n",
       "      <td>547</td>\n",
       "      <td>8100000</td>\n",
       "      <td>4700000</td>\n",
       "      <td>9500000</td>\n",
       "      <td>3100000</td>\n",
       "      <td>Approved</td>\n",
       "    </tr>\n",
       "    <tr>\n",
       "      <th>11</th>\n",
       "      <td>12</td>\n",
       "      <td>2</td>\n",
       "      <td>Not Graduate</td>\n",
       "      <td>Yes</td>\n",
       "      <td>6700000</td>\n",
       "      <td>22700000</td>\n",
       "      <td>18</td>\n",
       "      <td>538</td>\n",
       "      <td>15300000</td>\n",
       "      <td>5800000</td>\n",
       "      <td>20400000</td>\n",
       "      <td>6400000</td>\n",
       "      <td>Rejected</td>\n",
       "    </tr>\n",
       "    <tr>\n",
       "      <th>12</th>\n",
       "      <td>13</td>\n",
       "      <td>3</td>\n",
       "      <td>Not Graduate</td>\n",
       "      <td>Yes</td>\n",
       "      <td>5000000</td>\n",
       "      <td>11600000</td>\n",
       "      <td>16</td>\n",
       "      <td>311</td>\n",
       "      <td>6400000</td>\n",
       "      <td>9600000</td>\n",
       "      <td>14600000</td>\n",
       "      <td>4300000</td>\n",
       "      <td>Rejected</td>\n",
       "    </tr>\n",
       "    <tr>\n",
       "      <th>13</th>\n",
       "      <td>14</td>\n",
       "      <td>2</td>\n",
       "      <td>Graduate</td>\n",
       "      <td>Yes</td>\n",
       "      <td>9100000</td>\n",
       "      <td>31500000</td>\n",
       "      <td>14</td>\n",
       "      <td>679</td>\n",
       "      <td>10800000</td>\n",
       "      <td>16600000</td>\n",
       "      <td>20900000</td>\n",
       "      <td>5000000</td>\n",
       "      <td>Approved</td>\n",
       "    </tr>\n",
       "    <tr>\n",
       "      <th>14</th>\n",
       "      <td>15</td>\n",
       "      <td>1</td>\n",
       "      <td>Not Graduate</td>\n",
       "      <td>No</td>\n",
       "      <td>1900000</td>\n",
       "      <td>7400000</td>\n",
       "      <td>6</td>\n",
       "      <td>469</td>\n",
       "      <td>1900000</td>\n",
       "      <td>1200000</td>\n",
       "      <td>5900000</td>\n",
       "      <td>1900000</td>\n",
       "      <td>Rejected</td>\n",
       "    </tr>\n",
       "  </tbody>\n",
       "</table>\n",
       "</div>"
      ],
      "text/plain": [
       "    loan_id   no_of_dependents      education  self_employed   income_annum  \\\n",
       "0         1                  2       Graduate             No        9600000   \n",
       "1         2                  0   Not Graduate            Yes        4100000   \n",
       "2         3                  3       Graduate             No        9100000   \n",
       "3         4                  3       Graduate             No        8200000   \n",
       "4         5                  5   Not Graduate            Yes        9800000   \n",
       "5         6                  0       Graduate            Yes        4800000   \n",
       "6         7                  5       Graduate             No        8700000   \n",
       "7         8                  2       Graduate            Yes        5700000   \n",
       "8         9                  0       Graduate            Yes         800000   \n",
       "9        10                  5   Not Graduate             No        1100000   \n",
       "10       11                  4       Graduate            Yes        2900000   \n",
       "11       12                  2   Not Graduate            Yes        6700000   \n",
       "12       13                  3   Not Graduate            Yes        5000000   \n",
       "13       14                  2       Graduate            Yes        9100000   \n",
       "14       15                  1   Not Graduate             No        1900000   \n",
       "\n",
       "     loan_amount   loan_term   cibil_score   residential_assets_value  \\\n",
       "0       29900000          12           778                    2400000   \n",
       "1       12200000           8           417                    2700000   \n",
       "2       29700000          20           506                    7100000   \n",
       "3       30700000           8           467                   18200000   \n",
       "4       24200000          20           382                   12400000   \n",
       "5       13500000          10           319                    6800000   \n",
       "6       33000000           4           678                   22500000   \n",
       "7       15000000          20           382                   13200000   \n",
       "8        2200000          20           782                    1300000   \n",
       "9        4300000          10           388                    3200000   \n",
       "10      11200000           2           547                    8100000   \n",
       "11      22700000          18           538                   15300000   \n",
       "12      11600000          16           311                    6400000   \n",
       "13      31500000          14           679                   10800000   \n",
       "14       7400000           6           469                    1900000   \n",
       "\n",
       "     commercial_assets_value   luxury_assets_value   bank_asset_value  \\\n",
       "0                   17600000              22700000            8000000   \n",
       "1                    2200000               8800000            3300000   \n",
       "2                    4500000              33300000           12800000   \n",
       "3                    3300000              23300000            7900000   \n",
       "4                    8200000              29400000            5000000   \n",
       "5                    8300000              13700000            5100000   \n",
       "6                   14800000              29200000            4300000   \n",
       "7                    5700000              11800000            6000000   \n",
       "8                     800000               2800000             600000   \n",
       "9                    1400000               3300000            1600000   \n",
       "10                   4700000               9500000            3100000   \n",
       "11                   5800000              20400000            6400000   \n",
       "12                   9600000              14600000            4300000   \n",
       "13                  16600000              20900000            5000000   \n",
       "14                   1200000               5900000            1900000   \n",
       "\n",
       "    loan_status  \n",
       "0      Approved  \n",
       "1      Rejected  \n",
       "2      Rejected  \n",
       "3      Rejected  \n",
       "4      Rejected  \n",
       "5      Rejected  \n",
       "6      Approved  \n",
       "7      Rejected  \n",
       "8      Approved  \n",
       "9      Rejected  \n",
       "10     Approved  \n",
       "11     Rejected  \n",
       "12     Rejected  \n",
       "13     Approved  \n",
       "14     Rejected  "
      ]
     },
     "execution_count": 3,
     "metadata": {},
     "output_type": "execute_result"
    }
   ],
   "source": [
    "# Step 1 Load the dataset \n",
    "file_path = 'loan_approval_dataset.csv'\n",
    "loan_df = pd.read_csv(file_path)\n",
    "loan_df.head(15)"
   ]
  },
  {
   "cell_type": "code",
   "execution_count": 4,
   "metadata": {
    "scrolled": true
   },
   "outputs": [
    {
     "name": "stdout",
     "output_type": "stream",
     "text": [
      "Columns with missing values:\n",
      " Series([], dtype: int64)\n"
     ]
    }
   ],
   "source": [
    "# Step 2: Identify columns with missing values\n",
    "missing_values = loan_df.isnull().sum()\n",
    "print(\"Columns with missing values:\\n\", missing_values[missing_values > 0])"
   ]
  },
  {
   "cell_type": "code",
   "execution_count": 5,
   "metadata": {},
   "outputs": [
    {
     "name": "stdout",
     "output_type": "stream",
     "text": [
      "Column 'loan_id' exists in the DataFrame.\n"
     ]
    }
   ],
   "source": [
    "if 'loan_id' in loan_df.columns:\n",
    "    print(\"Column 'loan_id' exists in the DataFrame.\")\n",
    "else:\n",
    "    print(\"Column 'loan_id' not found in the DataFrame.\")\n"
   ]
  },
  {
   "cell_type": "code",
   "execution_count": 6,
   "metadata": {},
   "outputs": [],
   "source": [
    "# Step 3: Drop irrelevant columns\n",
    "loan_df = loan_df.drop(['loan_id'], axis=1)"
   ]
  },
  {
   "cell_type": "code",
   "execution_count": 7,
   "metadata": {},
   "outputs": [
    {
     "name": "stdout",
     "output_type": "stream",
     "text": [
      "Column 'loan_id' not found in the DataFrame.\n"
     ]
    }
   ],
   "source": [
    "if 'loan_id' in loan_df.columns:\n",
    "    print(\"Column 'loan_id' exists in the DataFrame.\")\n",
    "else:\n",
    "    print(\"Column 'loan_id' not found in the DataFrame.\")\n"
   ]
  },
  {
   "cell_type": "code",
   "execution_count": 8,
   "metadata": {},
   "outputs": [],
   "source": [
    "#Strip blank spaces from column headers\n",
    "loan_df.columns = loan_df.columns.str.strip().str.lower().str.replace(' ', '_')\n"
   ]
  },
  {
   "cell_type": "code",
   "execution_count": 9,
   "metadata": {},
   "outputs": [
    {
     "name": "stdout",
     "output_type": "stream",
     "text": [
      "Negative values found:\n",
      " 59     -100000\n",
      "196    -100000\n",
      "559    -100000\n",
      "702    -100000\n",
      "737    -100000\n",
      "784    -100000\n",
      "904    -100000\n",
      "1089   -100000\n",
      "1163   -100000\n",
      "1350   -100000\n",
      "1392   -100000\n",
      "1773   -100000\n",
      "1806   -100000\n",
      "1866   -100000\n",
      "1933   -100000\n",
      "1950   -100000\n",
      "2707   -100000\n",
      "3019   -100000\n",
      "3164   -100000\n",
      "3180   -100000\n",
      "3431   -100000\n",
      "3730   -100000\n",
      "3747   -100000\n",
      "3962   -100000\n",
      "4076   -100000\n",
      "4130   -100000\n",
      "4206   -100000\n",
      "4243   -100000\n",
      "Name: residential_assets_value, dtype: int64\n",
      "Number of negative values: 28\n"
     ]
    }
   ],
   "source": [
    "negative_values = loan_df['residential_assets_value'][loan_df['residential_assets_value'] < 0]\n",
    "\n",
    "# Display the rows with negative values, if any\n",
    "print(\"Negative values found:\\n\", negative_values)\n",
    "\n",
    "# Count of negative values\n",
    "print(\"Number of negative values:\", len(negative_values))"
   ]
  },
  {
   "cell_type": "code",
   "execution_count": 10,
   "metadata": {},
   "outputs": [],
   "source": [
    "#Get rid of negative values\n",
    "loan_df['residential_assets_value'] = loan_df['residential_assets_value'].apply(lambda x: max(x, 0))"
   ]
  },
  {
   "cell_type": "code",
   "execution_count": 11,
   "metadata": {},
   "outputs": [
    {
     "name": "stdout",
     "output_type": "stream",
     "text": [
      "Negative values found:\n",
      " Series([], Name: residential_assets_value, dtype: int64)\n",
      "Number of negative values: 0\n"
     ]
    }
   ],
   "source": [
    "negative_values = loan_df['residential_assets_value'][loan_df['residential_assets_value'] < 0]\n",
    "\n",
    "# Check once more to ensure code to remove negative values worked\n",
    "print(\"Negative values found:\\n\", negative_values)\n",
    "\n",
    "# Count of negative values\n",
    "print(\"Number of negative values:\", len(negative_values))\n",
    "\n",
    "#Expected output: 0 negative values"
   ]
  },
  {
   "cell_type": "code",
   "execution_count": 12,
   "metadata": {},
   "outputs": [
    {
     "name": "stdout",
     "output_type": "stream",
     "text": [
      "Unique values in 'education': [' Graduate' ' Not Graduate']\n"
     ]
    }
   ],
   "source": [
    "# Check the unique values in the education column\n",
    "print(\"Unique values in 'education':\", loan_df['education'].unique())\n"
   ]
  },
  {
   "cell_type": "code",
   "execution_count": 13,
   "metadata": {},
   "outputs": [
    {
     "name": "stdout",
     "output_type": "stream",
     "text": [
      "Index(['no_of_dependents', 'education', 'self_employed', 'income_annum',\n",
      "       'loan_amount', 'loan_term', 'cibil_score', 'residential_assets_value',\n",
      "       'commercial_assets_value', 'luxury_assets_value', 'bank_asset_value',\n",
      "       'loan_status'],\n",
      "      dtype='object')\n"
     ]
    }
   ],
   "source": [
    "print(loan_df.columns)"
   ]
  },
  {
   "cell_type": "code",
   "execution_count": 14,
   "metadata": {},
   "outputs": [],
   "source": [
    "loan_df['education'] = loan_df['education'].str.strip()"
   ]
  },
  {
   "cell_type": "code",
   "execution_count": 15,
   "metadata": {},
   "outputs": [],
   "source": [
    "loan_df['self_employed'] = loan_df['self_employed'].str.strip()"
   ]
  },
  {
   "cell_type": "code",
   "execution_count": 16,
   "metadata": {},
   "outputs": [
    {
     "name": "stdout",
     "output_type": "stream",
     "text": [
      "Unique values in 'education': ['Graduate' 'Not Graduate']\n"
     ]
    }
   ],
   "source": [
    "print(\"Unique values in 'education':\", loan_df['education'].unique())\n"
   ]
  },
  {
   "cell_type": "code",
   "execution_count": 17,
   "metadata": {},
   "outputs": [],
   "source": [
    "# Encoding categorical variables\n",
    "loan_df['education'] = loan_df['education'].map({'Graduate': 1, 'Not Graduate': 0})\n",
    "loan_df['self_employed'] = loan_df['self_employed'].map({'Yes': 1, 'No': 0})\n",
    "# loan_df['self_employed'] = loan_df['self_employed'].map({'Yes': 1, 'No': 0})\n",
    "# loan_df['loan_status'] = loan_df['loan_status'].map({'Approved': 1, 'Rejected': 0})\n"
   ]
  },
  {
   "cell_type": "code",
   "execution_count": 18,
   "metadata": {},
   "outputs": [
    {
     "name": "stdout",
     "output_type": "stream",
     "text": [
      "   education  self_employed loan_status\n",
      "0          1              0    Approved\n",
      "1          0              1    Rejected\n",
      "2          1              0    Rejected\n",
      "3          1              0    Rejected\n",
      "4          0              1    Rejected\n"
     ]
    }
   ],
   "source": [
    "# Display the first few rows of the encoded columns\n",
    "print(loan_df[['education', 'self_employed', 'loan_status']].head())\n"
   ]
  },
  {
   "cell_type": "code",
   "execution_count": 19,
   "metadata": {},
   "outputs": [
    {
     "data": {
      "image/png": "[encoded data removed]",
      "text/plain": [
       "<Figure size 800x400 with 1 Axes>"
      ]
     },
     "metadata": {},
     "output_type": "display_data"
    },
    {
     "data": {
      "image/png": "[encoded data removed]",
      "text/plain": [
       "<Figure size 800x400 with 1 Axes>"
      ]
     },
     "metadata": {},
     "output_type": "display_data"
    },
    {
     "data": {
      "image/png": "[encoded data removed]",
      "text/plain": [
       "<Figure size 800x400 with 1 Axes>"
      ]
     },
     "metadata": {},
     "output_type": "display_data"
    },
    {
     "data": {
      "image/png": "[encoded data removed]",
      "text/plain": [
       "<Figure size 800x400 with 1 Axes>"
      ]
     },
     "metadata": {},
     "output_type": "display_data"
    },
    {
     "data": {
      "image/png": "[encoded data removed]",
      "text/plain": [
       "<Figure size 800x400 with 1 Axes>"
      ]
     },
     "metadata": {},
     "output_type": "display_data"
    },
    {
     "data": {
      "image/png": "[encoded data removed]",
      "text/plain": [
       "<Figure size 800x400 with 1 Axes>"
      ]
     },
     "metadata": {},
     "output_type": "display_data"
    },
    {
     "data": {
      "image/png": "[encoded data removed]",
      "text/plain": [
       "<Figure size 800x400 with 1 Axes>"
      ]
     },
     "metadata": {},
     "output_type": "display_data"
    }
   ],
   "source": [
    "import matplotlib.pyplot as plt\n",
    "\n",
    "# List of numeric columns to visualize\n",
    "columns_to_check = [\n",
    "    'income_annum', \n",
    "    'loan_amount', \n",
    "    'cibil_score', \n",
    "    'residential_assets_value', \n",
    "    'commercial_assets_value', \n",
    "    'luxury_assets_value', \n",
    "    'bank_asset_value'\n",
    "]\n",
    "\n",
    "# Plot boxplots for each column\n",
    "for column in columns_to_check:\n",
    "    plt.figure(figsize=(8, 4))\n",
    "    plt.boxplot(loan_df[column], vert=False, patch_artist=True)\n",
    "    plt.title(f'Boxplot of {column}')\n",
    "    plt.xlabel(column)\n",
    "    plt.show()"
   ]
  },
  {
   "cell_type": "code",
   "execution_count": 20,
   "metadata": {},
   "outputs": [
    {
     "name": "stdout",
     "output_type": "stream",
     "text": [
      "Outliers in 'income_annum':\n",
      "Series([], Name: income_annum, dtype: int64)\n",
      "Number of outliers in 'income_annum': 0\n",
      "--------------------------------------------------\n",
      "Outliers in 'loan_amount':\n",
      "Series([], Name: loan_amount, dtype: int64)\n",
      "Number of outliers in 'loan_amount': 0\n",
      "--------------------------------------------------\n",
      "Outliers in 'cibil_score':\n",
      "Series([], Name: cibil_score, dtype: int64)\n",
      "Number of outliers in 'cibil_score': 0\n",
      "--------------------------------------------------\n",
      "Outliers in 'residential_assets_value':\n",
      "82      25500000\n",
      "98      25900000\n",
      "123     26800000\n",
      "228     25500000\n",
      "262     25600000\n",
      "693     25400000\n",
      "714     28300000\n",
      "781     26300000\n",
      "892     27600000\n",
      "905     28700000\n",
      "919     25300000\n",
      "924     25800000\n",
      "953     25500000\n",
      "956     25300000\n",
      "987     28200000\n",
      "997     25200000\n",
      "1002    25800000\n",
      "1397    25700000\n",
      "1419    25500000\n",
      "1468    27000000\n",
      "1591    28500000\n",
      "1625    26300000\n",
      "1965    28400000\n",
      "1997    27000000\n",
      "2185    25900000\n",
      "2318    28500000\n",
      "2384    26600000\n",
      "2412    26200000\n",
      "2586    28000000\n",
      "2715    25800000\n",
      "2818    25500000\n",
      "2828    26900000\n",
      "2922    25200000\n",
      "2927    27600000\n",
      "2930    25300000\n",
      "2940    26100000\n",
      "3119    29100000\n",
      "3157    25400000\n",
      "3234    28200000\n",
      "3310    25100000\n",
      "3498    25600000\n",
      "3631    25400000\n",
      "3763    26100000\n",
      "3782    27500000\n",
      "3860    25000000\n",
      "3868    25500000\n",
      "3872    25400000\n",
      "3880    26200000\n",
      "4027    25100000\n",
      "4042    27400000\n",
      "4074    27300000\n",
      "4237    26200000\n",
      "Name: residential_assets_value, dtype: int64\n",
      "Number of outliers in 'residential_assets_value': 52\n",
      "--------------------------------------------------\n",
      "Outliers in 'commercial_assets_value':\n",
      "0       17600000\n",
      "157     18700000\n",
      "231     17500000\n",
      "258     19000000\n",
      "323     17200000\n",
      "367     18500000\n",
      "554     18800000\n",
      "791     17800000\n",
      "895     18500000\n",
      "905     17900000\n",
      "1029    18300000\n",
      "1131    17300000\n",
      "1194    17300000\n",
      "1254    18900000\n",
      "1272    18400000\n",
      "1304    18200000\n",
      "1609    17300000\n",
      "1761    19000000\n",
      "1768    19400000\n",
      "1812    17800000\n",
      "2004    17500000\n",
      "2302    17900000\n",
      "2349    17400000\n",
      "2914    18500000\n",
      "2933    17600000\n",
      "2940    19000000\n",
      "2976    17700000\n",
      "3000    18800000\n",
      "3439    18400000\n",
      "3541    17200000\n",
      "3790    18400000\n",
      "3827    17700000\n",
      "3882    18500000\n",
      "3949    17600000\n",
      "4010    17600000\n",
      "4120    17900000\n",
      "4205    17600000\n",
      "Name: commercial_assets_value, dtype: int64\n",
      "Number of outliers in 'commercial_assets_value': 37\n",
      "--------------------------------------------------\n",
      "Outliers in 'luxury_assets_value':\n",
      "Series([], Name: luxury_assets_value, dtype: int64)\n",
      "Number of outliers in 'luxury_assets_value': 0\n",
      "--------------------------------------------------\n",
      "Outliers in 'bank_asset_value':\n",
      "200     14400000\n",
      "1272    14700000\n",
      "1633    14600000\n",
      "1674    14600000\n",
      "1805    14700000\n",
      "Name: bank_asset_value, dtype: int64\n",
      "Number of outliers in 'bank_asset_value': 5\n",
      "--------------------------------------------------\n"
     ]
    }
   ],
   "source": [
    "# Function to calculate and display outliers\n",
    "def find_outliers(df, column):\n",
    "    Q1 = df[column].quantile(0.25)  # First quartile (25th percentile)\n",
    "    Q3 = df[column].quantile(0.75)  # Third quartile (75th percentile)\n",
    "    IQR = Q3 - Q1  # Interquartile range\n",
    "    lower_bound = Q1 - 1.5 * IQR\n",
    "    upper_bound = Q3 + 1.5 * IQR\n",
    "    outliers = df[(df[column] < lower_bound) | (df[column] > upper_bound)]\n",
    "    return outliers[column]\n",
    "\n",
    "# Columns to check for outliers\n",
    "columns_to_check = [\n",
    "    'income_annum', \n",
    "    'loan_amount', \n",
    "    'cibil_score', \n",
    "    'residential_assets_value', \n",
    "    'commercial_assets_value', \n",
    "    'luxury_assets_value', \n",
    "    'bank_asset_value'\n",
    "]\n",
    "\n",
    "# Display outliers for each column\n",
    "for column in columns_to_check:\n",
    "    outliers = find_outliers(loan_df, column)\n",
    "    print(f\"Outliers in '{column}':\")\n",
    "    print(outliers)\n",
    "    print(f\"Number of outliers in '{column}': {len(outliers)}\")\n",
    "    print(\"-\" * 50)\n"
   ]
  },
  {
   "cell_type": "code",
   "execution_count": 21,
   "metadata": {},
   "outputs": [
    {
     "name": "stdout",
     "output_type": "stream",
     "text": [
      "Shape after removing outliers: (4178, 12)\n"
     ]
    }
   ],
   "source": [
    "# Function to calculate bounds for multiple columns\n",
    "def calculate_outlier_bounds(df, columns):\n",
    "    bounds = {}\n",
    "    for column in columns:\n",
    "        Q1 = df[column].quantile(0.25)  # First quartile\n",
    "        Q3 = df[column].quantile(0.75)  # Third quartile\n",
    "        IQR = Q3 - Q1  # Interquartile range\n",
    "        lower_bound = Q1 - 1.5 * IQR\n",
    "        upper_bound = Q3 + 1.5 * IQR\n",
    "        bounds[column] = (lower_bound, upper_bound)\n",
    "    return bounds\n",
    "\n",
    "# Remove outliers in a single operation\n",
    "def remove_all_outliers(df, bounds):\n",
    "    for column, (lower, upper) in bounds.items():\n",
    "        df = df[(df[column] >= lower) & (df[column] <= upper)]\n",
    "    return df\n",
    "\n",
    "# Define columns to check and calculate bounds\n",
    "columns_to_check = [\n",
    "    'income_annum', \n",
    "    'loan_amount', \n",
    "    'cibil_score', \n",
    "    'residential_assets_value', \n",
    "    'commercial_assets_value', \n",
    "    'luxury_assets_value', \n",
    "    'bank_asset_value'\n",
    "]\n",
    "bounds = calculate_outlier_bounds(loan_df, columns_to_check)\n",
    "\n",
    "# Remove outliers\n",
    "loan_df = remove_all_outliers(loan_df, bounds)\n",
    "\n",
    "# Check updated shape\n",
    "print(f\"Shape after removing outliers: {loan_df.shape}\")\n",
    "\n"
   ]
  },
  {
   "cell_type": "code",
   "execution_count": 22,
   "metadata": {},
   "outputs": [],
   "source": [
    "# Initialize the scaler\n",
    "scaler = MinMaxScaler()"
   ]
  },
  {
   "cell_type": "code",
   "execution_count": 23,
   "metadata": {},
   "outputs": [],
   "source": [
    "# List of numerical columns to scale\n",
    "scaled_columns = ['income_annum', 'loan_amount', 'loan_term', 'cibil_score',\n",
    "'residential_assets_value', 'commercial_assets_value',\n",
    "'luxury_assets_value', 'bank_asset_value']"
   ]
  },
  {
   "cell_type": "code",
   "execution_count": 24,
   "metadata": {},
   "outputs": [],
   "source": [
    "# Apply scaling\n",
    "loan_df [scaled_columns] = scaler.fit_transform(loan_df[scaled_columns])"
   ]
  },
  {
   "cell_type": "code",
   "execution_count": 25,
   "metadata": {},
   "outputs": [
    {
     "name": "stdout",
     "output_type": "stream",
     "text": [
      "   income_annum  loan_amount  loan_term  cibil_score  \\\n",
      "1      0.402062     0.303571   0.333333     0.195000   \n",
      "2      0.917526     0.750000   1.000000     0.343333   \n",
      "3      0.824742     0.775510   0.333333     0.278333   \n",
      "4      0.989691     0.609694   1.000000     0.136667   \n",
      "5      0.474227     0.336735   0.444444     0.031667   \n",
      "\n",
      "   residential_assets_value  commercial_assets_value  luxury_assets_value  \\\n",
      "1                  0.108434                 0.129412             0.218509   \n",
      "2                  0.285141                 0.264706             0.848329   \n",
      "3                  0.730924                 0.194118             0.591260   \n",
      "4                  0.497992                 0.482353             0.748072   \n",
      "5                  0.273092                 0.488235             0.344473   \n",
      "\n",
      "   bank_asset_value  \n",
      "1          0.230769  \n",
      "2          0.895105  \n",
      "3          0.552448  \n",
      "4          0.349650  \n",
      "5          0.356643  \n"
     ]
    }
   ],
   "source": [
    "print(loan_df [scaled_columns].head())"
   ]
  },
  {
   "cell_type": "code",
   "execution_count": 26,
   "metadata": {},
   "outputs": [
    {
     "name": "stdout",
     "output_type": "stream",
     "text": [
      "income_annum                0.0\n",
      "loan_amount                 0.0\n",
      "loan_term                   0.0\n",
      "cibil_score                 0.0\n",
      "residential_assets_value    0.0\n",
      "commercial_assets_value     0.0\n",
      "luxury_assets_value         0.0\n",
      "bank_asset_value            0.0\n",
      "dtype: float64\n",
      "income_annum                1.0\n",
      "loan_amount                 1.0\n",
      "loan_term                   1.0\n",
      "cibil_score                 1.0\n",
      "residential_assets_value    1.0\n",
      "commercial_assets_value     1.0\n",
      "luxury_assets_value         1.0\n",
      "bank_asset_value            1.0\n",
      "dtype: float64\n"
     ]
    }
   ],
   "source": [
    "print (loan_df [scaled_columns].min())\n",
    "print (loan_df [scaled_columns].max ())"
   ]
  },
  {
   "cell_type": "code",
   "execution_count": 27,
   "metadata": {
    "scrolled": true
   },
   "outputs": [
    {
     "name": "stdout",
     "output_type": "stream",
     "text": [
      "Index(['no_of_dependents', 'education', 'self_employed', 'income_annum',\n",
      "       'loan_amount', 'loan_term', 'cibil_score', 'residential_assets_value',\n",
      "       'commercial_assets_value', 'luxury_assets_value', 'bank_asset_value',\n",
      "       'loan_status'],\n",
      "      dtype='object')\n"
     ]
    }
   ],
   "source": [
    "print(loan_df.columns)"
   ]
  },
  {
   "cell_type": "code",
   "execution_count": 28,
   "metadata": {},
   "outputs": [
    {
     "name": "stdout",
     "output_type": "stream",
     "text": [
      "[' Rejected' ' Approved']\n"
     ]
    }
   ],
   "source": [
    "print(loan_df['loan_status'].unique())"
   ]
  },
  {
   "cell_type": "code",
   "execution_count": 29,
   "metadata": {},
   "outputs": [],
   "source": [
    "loan_df['loan_status'] = loan_df['loan_status'].str.strip()"
   ]
  },
  {
   "cell_type": "code",
   "execution_count": 30,
   "metadata": {},
   "outputs": [
    {
     "name": "stdout",
     "output_type": "stream",
     "text": [
      "loan_status\n",
      "1    2603\n",
      "0    1575\n",
      "Name: count, dtype: int64\n"
     ]
    }
   ],
   "source": [
    "loan_df['loan_status'] = loan_df['loan_status'].map({'Approved': 1, 'Rejected': 0})\n",
    "print(loan_df['loan_status'].value_counts())"
   ]
  },
  {
   "cell_type": "code",
   "execution_count": 31,
   "metadata": {},
   "outputs": [
    {
     "name": "stdout",
     "output_type": "stream",
     "text": [
      "Training Features Shape: (3342, 11)\n",
      "Testing Features Shape: (836, 11)\n",
      "Training Labels Shape: (3342,)\n",
      "Testing Labels Shape: (836,)\n"
     ]
    }
   ],
   "source": [
    "from sklearn.model_selection import train_test_split\n",
    "\n",
    "# Define features (X) and target (y)\n",
    "X = loan_df.drop('loan_status', axis=1)  # Drop target column from features\n",
    "y = loan_df['loan_status']  # Target column\n",
    "\n",
    "# Split data into training and testing sets\n",
    "X_train, X_test, y_train, y_test = train_test_split(X, y, test_size=0.2, random_state=42)\n",
    "\n",
    "# Display the shape of the splits\n",
    "print(f\"Training Features Shape: {X_train.shape}\")\n",
    "print(f\"Testing Features Shape: {X_test.shape}\")\n",
    "print(f\"Training Labels Shape: {y_train.shape}\")\n",
    "print(f\"Testing Labels Shape: {y_test.shape}\")"
   ]
  },
  {
   "cell_type": "code",
   "execution_count": 32,
   "metadata": {},
   "outputs": [
    {
     "name": "stdout",
     "output_type": "stream",
     "text": [
      "Accuracy: 0.98\n",
      "\n",
      "Classification Report:\n",
      "              precision    recall  f1-score   support\n",
      "\n",
      "           0       0.96      0.97      0.97       315\n",
      "           1       0.98      0.98      0.98       521\n",
      "\n",
      "    accuracy                           0.98       836\n",
      "   macro avg       0.97      0.98      0.97       836\n",
      "weighted avg       0.98      0.98      0.98       836\n",
      "\n",
      "\n",
      "Confusion Matrix:\n",
      "[[307   8]\n",
      " [ 12 509]]\n"
     ]
    }
   ],
   "source": [
    "from sklearn.tree import DecisionTreeClassifier\n",
    "from sklearn.metrics import accuracy_score, classification_report, confusion_matrix\n",
    "\n",
    "# Initialize the Decision Tree Classifier\n",
    "clf = DecisionTreeClassifier(random_state=42)\n",
    "\n",
    "# Train the model on the training set\n",
    "clf.fit(X_train, y_train)\n",
    "\n",
    "# Predict on the test set\n",
    "y_pred = clf.predict(X_test)\n",
    "\n",
    "# Evaluate the model\n",
    "accuracy = accuracy_score(y_test, y_pred)\n",
    "print(f\"Accuracy: {accuracy:.2f}\")\n",
    "\n",
    "# Detailed performance metrics\n",
    "print(\"\\nClassification Report:\")\n",
    "print(classification_report(y_test, y_pred))\n",
    "\n",
    "# Confusion Matrix\n",
    "print(\"\\nConfusion Matrix:\")\n",
    "print(confusion_matrix(y_test, y_pred))"
   ]
  },
  {
   "cell_type": "code",
   "execution_count": 33,
   "metadata": {},
   "outputs": [
    {
     "name": "stdout",
     "output_type": "stream",
     "text": [
      "Cross-Validation Scores: [0.97607656 0.97966507 0.98086124 0.97245509 0.97365269]\n",
      "Mean Accuracy: 0.98\n",
      "Standard Deviation: 0.00\n"
     ]
    }
   ],
   "source": [
    "# Perform 5-fold cross-validation\n",
    "cv_scores = cross_val_score(clf, X, y, cv=5, scoring='accuracy')\n",
    "\n",
    "# Display the cross-validation scores\n",
    "print(f\"Cross-Validation Scores: {cv_scores}\")\n",
    "print(f\"Mean Accuracy: {cv_scores.mean():.2f}\")\n",
    "print(f\"Standard Deviation: {cv_scores.std():.2f}\")"
   ]
  },
  {
   "cell_type": "code",
   "execution_count": 34,
   "metadata": {},
   "outputs": [
    {
     "name": "stdout",
     "output_type": "stream",
     "text": [
      "Fitting 5 folds for each of 36 candidates, totalling 180 fits\n",
      "Best Parameters: {'max_depth': 10, 'min_samples_leaf': 1, 'min_samples_split': 2}\n",
      "Best Cross-Validation Accuracy: 0.974863277928448\n",
      "Test Set Accuracy with Best Parameters: 0.98\n"
     ]
    }
   ],
   "source": [
    "from sklearn.model_selection import GridSearchCV\n",
    "\n",
    "# Define the parameter grid\n",
    "param_grid = {\n",
    "    'max_depth': [3, 5, 10, None],\n",
    "    'min_samples_split': [2, 5, 10],\n",
    "    'min_samples_leaf': [1, 2, 4]\n",
    "}\n",
    "\n",
    "# Initialize GridSearchCV\n",
    "grid_search = GridSearchCV(\n",
    "    estimator=DecisionTreeClassifier(random_state=42),\n",
    "    param_grid=param_grid,\n",
    "    cv=5,  # 5-fold cross-validation\n",
    "    scoring='accuracy',  # Optimize for accuracy\n",
    "    verbose=1,  # Display progress\n",
    "    n_jobs=-1  # Use all available CPU cores\n",
    ")\n",
    "\n",
    "# Fit GridSearchCV\n",
    "grid_search.fit(X_train, y_train)\n",
    "\n",
    "# Display the best parameters and accuracy\n",
    "print(\"Best Parameters:\", grid_search.best_params_)\n",
    "print(\"Best Cross-Validation Accuracy:\", grid_search.best_score_)\n",
    "\n",
    "# Train the final model with the best parameters\n",
    "best_model = grid_search.best_estimator_\n",
    "\n",
    "# Test the model on the test set\n",
    "y_pred = best_model.predict(X_test)\n",
    "accuracy = accuracy_score(y_test, y_pred)\n",
    "print(f\"Test Set Accuracy with Best Parameters: {accuracy:.2f}\")\n"
   ]
  },
  {
   "cell_type": "code",
   "execution_count": 35,
   "metadata": {},
   "outputs": [
    {
     "data": {
      "image/png": "[encoded data removed]",
      "text/plain": [
       "<Figure size 1000x600 with 1 Axes>"
      ]
     },
     "metadata": {},
     "output_type": "display_data"
    }
   ],
   "source": [
    "# Get feature importances from the trained model\n",
    "feature_importances = pd.Series(best_model.feature_importances_, index=X.columns)\n",
    "\n",
    "# Sort feature importances in descending order\n",
    "sorted_importances = feature_importances.sort_values(ascending=False)\n",
    "\n",
    "# Plot the feature importances\n",
    "plt.figure(figsize=(10, 6))\n",
    "sorted_importances.plot(kind='bar', color='skyblue')\n",
    "plt.title(\"Feature Importances\")\n",
    "plt.xlabel(\"Features\")\n",
    "plt.ylabel(\"Importance Score\")\n",
    "plt.show()\n"
   ]
  },
  {
   "cell_type": "code",
   "execution_count": 36,
   "metadata": {},
   "outputs": [
    {
     "name": "stdout",
     "output_type": "stream",
     "text": [
      "Top 8 Features: ['cibil_score', 'loan_term', 'loan_amount', 'income_annum', 'residential_assets_value', 'luxury_assets_value', 'no_of_dependents', 'commercial_assets_value']\n"
     ]
    }
   ],
   "source": [
    "# Select the top 8 features based on importance\n",
    "top_features = feature_importances.nlargest(8).index.tolist()\n",
    "print(\"Top 8 Features:\", top_features)\n",
    "\n",
    "# Create a new dataset with only the top 8 features\n",
    "X_top = X[top_features]"
   ]
  },
  {
   "cell_type": "code",
   "execution_count": 37,
   "metadata": {},
   "outputs": [
    {
     "name": "stdout",
     "output_type": "stream",
     "text": [
      "Training Features Shape: (3342, 8)\n",
      "Testing Features Shape: (836, 8)\n"
     ]
    }
   ],
   "source": [
    "from sklearn.model_selection import train_test_split\n",
    "\n",
    "# Train-test split for the reduced feature dataset\n",
    "X_train_top, X_test_top, y_train, y_test = train_test_split(X_top, y, test_size=0.2, random_state=42)\n",
    "\n",
    "print(f\"Training Features Shape: {X_train_top.shape}\")\n",
    "print(f\"Testing Features Shape: {X_test_top.shape}\")"
   ]
  },
  {
   "cell_type": "code",
   "execution_count": 38,
   "metadata": {},
   "outputs": [
    {
     "name": "stdout",
     "output_type": "stream",
     "text": [
      "Accuracy with Top 8 Features: 0.98\n",
      "\n",
      "Classification Report:\n",
      "              precision    recall  f1-score   support\n",
      "\n",
      "           0       0.96      0.99      0.97       315\n",
      "           1       0.99      0.98      0.98       521\n",
      "\n",
      "    accuracy                           0.98       836\n",
      "   macro avg       0.98      0.98      0.98       836\n",
      "weighted avg       0.98      0.98      0.98       836\n",
      "\n",
      "\n",
      "Confusion Matrix:\n",
      "[[311   4]\n",
      " [ 13 508]]\n"
     ]
    }
   ],
   "source": [
    "from sklearn.tree import DecisionTreeClassifier\n",
    "from sklearn.metrics import accuracy_score, classification_report, confusion_matrix\n",
    "\n",
    "# Train the model\n",
    "clf_top = DecisionTreeClassifier(random_state=42)\n",
    "clf_top.fit(X_train_top, y_train)\n",
    "\n",
    "# Predict on the test set\n",
    "y_pred_top = clf_top.predict(X_test_top)\n",
    "\n",
    "# Evaluate the model\n",
    "accuracy_top = accuracy_score(y_test, y_pred_top)\n",
    "print(f\"Accuracy with Top 8 Features: {accuracy_top:.2f}\")\n",
    "\n",
    "# Detailed performance metrics\n",
    "print(\"\\nClassification Report:\")\n",
    "print(classification_report(y_test, y_pred_top))\n",
    "\n",
    "# Confusion Matrix\n",
    "print(\"\\nConfusion Matrix:\")\n",
    "print(confusion_matrix(y_test, y_pred_top))"
   ]
  },
  {
   "cell_type": "code",
   "execution_count": 39,
   "metadata": {},
   "outputs": [
    {
     "data": {
      "image/png": "[encoded data removed]",
      "text/plain": [
       "<Figure size 800x600 with 1 Axes>"
      ]
     },
     "metadata": {},
     "output_type": "display_data"
    }
   ],
   "source": [
    "from sklearn.metrics import roc_curve, auc\n",
    "import matplotlib.pyplot as plt\n",
    "\n",
    "# Get the predicted probabilities for the positive class (1)\n",
    "y_pred_proba = clf.predict_proba(X_test)[:, 1]\n",
    "\n",
    "# Calculate the False Positive Rate (FPR), True Positive Rate (TPR), and thresholds\n",
    "fpr, tpr, thresholds = roc_curve(y_test, y_pred_proba)\n",
    "\n",
    "# Calculate the AUC score\n",
    "roc_auc = auc(fpr, tpr)\n",
    "\n",
    "# Plot the ROC Curve\n",
    "plt.figure(figsize=(8, 6))\n",
    "plt.plot(fpr, tpr, color='blue', label=f'ROC Curve (AUC = {roc_auc:.2f})')\n",
    "plt.plot([0, 1], [0, 1], color='gray', linestyle='--')  # Random guess line\n",
    "plt.xlabel('False Positive Rate')\n",
    "plt.ylabel('True Positive Rate')\n",
    "plt.title('Receiver Operating Characteristic (ROC) Curve')\n",
    "plt.legend(loc='lower right')\n",
    "plt.grid()\n",
    "plt.show()"
   ]
  },
  {
   "cell_type": "code",
   "execution_count": 40,
   "metadata": {},
   "outputs": [
    {
     "name": "stdout",
     "output_type": "stream",
     "text": [
      "Model saved to trained_decision_tree_model.pkl\n"
     ]
    }
   ],
   "source": [
    "import pickle\n",
    "\n",
    "# Save the trained model\n",
    "model_filename = \"Trained_decision_tree_model.pkl\"\n",
    "with open(model_filename, 'wb') as file:\n",
    "    pickle.dump(best_model, file)\n",
    "\n",
    "print(f\"Model saved to {model_filename}\")"
   ]
  }
 ],
 "metadata": {
  "kernelspec": {
   "display_name": "Python 3 (ipykernel)",
   "language": "python",
   "name": "python3"
  },
  "language_info": {
   "codemirror_mode": {
    "name": "ipython",
    "version": 3
   },
   "file_extension": ".py",
   "mimetype": "text/x-python",
   "name": "python",
   "nbconvert_exporter": "python",
   "pygments_lexer": "ipython3",
   "version": "3.11.7"
  },
  "vscode": {
   "interpreter": {
    "hash": "aee8b7b246df8f9039afb4144a1f6fd8d2ca17a180786b69acc140d282b71a49"
   }
  }
 },
 "nbformat": 4,
 "nbformat_minor": 4
}
